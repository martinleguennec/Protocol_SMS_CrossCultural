{
 "cells": [
  {
   "cell_type": "code",
   "execution_count": 1,
   "metadata": {},
   "outputs": [],
   "source": [
    "# CODE BLOCK 1: LIBRARIES IMPORT\n",
    "\n",
    "from pathlib import Path\n",
    "import os\n",
    "import numpy as np\n",
    "from numpy import random\n",
    "\n",
    "base_dir = Path().resolve()\n",
    "if base_dir.name == 'notebooks':\n",
    "    os.chdir(base_dir.parent)\n",
    "    base_dir = Path().resolve()\n",
    "\n",
    "from src.stimulus_generation import *\n",
    "from src.condition_randomization import randomize_conditions"
   ]
  },
  {
   "cell_type": "markdown",
   "metadata": {},
   "source": [
    "# Parameters for the code\n",
    "In the following bloc code, the only information you have to change is the `participant_number`. Changing this parameter is important since it is used to randomize the conditions for each task."
   ]
  },
  {
   "cell_type": "code",
   "execution_count": 2,
   "metadata": {},
   "outputs": [],
   "source": [
    "# CODE BLOCK 2: DEFINE PARTICIPANT NUMBER\n",
    "\n",
    "participant_number = 5"
   ]
  },
  {
   "cell_type": "markdown",
   "metadata": {},
   "source": [
    "In total, there is 1 measurement and 4 tasks:\n",
    "- **Measurement of the SMT**: mandatory to set conditions for the 2 following tasks (5 repetitions)\n",
    "- **SMT-sync-SMT**: \n",
    "    - 3 repetitions with sync 50% faster than SMT\n",
    "    - 3 repetitions with sync 50% slower than SMT\n",
    "- **Conti**:\n",
    "    - 3 repetitions with sync 50% faster than SMT\n",
    "    - 3 repetitions with sync 50% slower than SMT\n",
    "- **Synchro**:\n",
    "    - 4 repetitions with increasing frequency\n",
    "    - 4 repetitions with decreasing frequency\n",
    "\n",
    "For the three tasks, the order of the condition is randomized. The three variables `order_1`, `order_2` and `order_3` contain the order of realization for respectively **SMT-sync-SMT**, **Conti** and **Synchro**."
   ]
  },
  {
   "cell_type": "markdown",
   "metadata": {},
   "source": [
    "<a id=\"code-3\"></a>"
   ]
  },
  {
   "cell_type": "code",
   "execution_count": 42,
   "metadata": {},
   "outputs": [],
   "source": [
    "# CODE BLOCK 3: INITIATE TRIALS COUNTERS\n",
    "\n",
    "# Initiate loops for the conditions\n",
    "idx_SMT = 0\n",
    "idx_adapt = 0\n",
    "idx_conti = 0\n",
    "idx_synch = 0\n",
    "\n",
    "# Get the randomization order for the conditions\n",
    "order_adapt, order_conti, order_synch = randomize_conditions(participant_number)"
   ]
  },
  {
   "cell_type": "markdown",
   "metadata": {},
   "source": [
    "# SMT measurement"
   ]
  },
  {
   "cell_type": "markdown",
   "metadata": {},
   "source": [
    "The SMT has to be measured in five separate trials. \n",
    "1. Ensure to give the participant at least one **practice trial** by executing **[Code Block 4](#code-4)** to familiarize the participant with the procedure. \n",
    "2. Once the practice is complete, exectue the **[Code Block 3](#code-3)** again to reset the `idx_SMT`counting the number of SMT tasks. \n",
    "3. Then, run the **[Code Block 4](#code-4)** a total of **five times**&mdash;each execution will record one SMT measurement trial. When all five trials are completed, the code will display \"No more trials left\"."
   ]
  },
  {
   "cell_type": "markdown",
   "metadata": {},
   "source": [
    "<a id=\"code-4\"></a>"
   ]
  },
  {
   "cell_type": "code",
   "execution_count": 23,
   "metadata": {},
   "outputs": [],
   "source": [
    "# CODE BLOCK 4: MEASURE SMT\n",
    "\n",
    "if idx_SMT > 4:\n",
    "    print(\"No more trials left.\")\n",
    "\n",
    "else:\n",
    "    ioi_list = [30 * 1000]\n",
    "    stimuli = generate_stimuli(ioi_list)\n",
    "    sequence = create_sequence(ioi_list, stimuli)\n",
    "    sequence.play()\n",
    "\n",
    "    idx_SMT += 1"
   ]
  },
  {
   "cell_type": "markdown",
   "metadata": {},
   "source": [
    "**Calculate the SMT** using the data recorded on the data recording laptop by running `calculate_SMT.ipynb`. Once the SMT is determined, update and report this value in [Code Block 5](#code-5) (the code block below) so that the correct tempo is used in the subsequent tasks."
   ]
  },
  {
   "cell_type": "markdown",
   "metadata": {},
   "source": [
    "<a id=\"code-5\"></a>"
   ]
  },
  {
   "cell_type": "code",
   "execution_count": 24,
   "metadata": {},
   "outputs": [],
   "source": [
    "# CODE BLOCK 5: INFORM SMT\n",
    "\n",
    "SMT = 1.70 # With two decimal precision"
   ]
  },
  {
   "cell_type": "markdown",
   "metadata": {},
   "source": [
    "# Task 1: Adaptation of the frequency"
   ]
  },
  {
   "cell_type": "markdown",
   "metadata": {},
   "source": [
    "Six separate trials of the *Adapt* task have to be conducted. The order of the conditions (slower or faster than SMT) have been randomized in [Code Block 3](#code-3) using the function `randomize_conditions`. Please follow these steps:\n",
    "1. Provide clear instructions to the participant\n",
    "2. Run a **practice trial** by executing **[Code Block 6](#code-6)** to familiarize the particpant with the procedure.\n",
    "2. Once the practice trial is complete, exectue **[Code Block 3](#code-3)** again to reset the `idx_adapt` counter. \n",
    "3. Finally, run **[Code Block 6](#code-6)** a total of **six times**&mdash;each execution will record one measurement trial. The condition for each trial will be determined automatically using `order_adapt`. When all six trials are completed, the code will display \"No more trials left\"."
   ]
  },
  {
   "cell_type": "markdown",
   "metadata": {},
   "source": [
    "<a id=\"code-6\"></a>"
   ]
  },
  {
   "cell_type": "code",
   "execution_count": 32,
   "metadata": {},
   "outputs": [
    {
     "name": "stdout",
     "output_type": "stream",
     "text": [
      "\u001b[1mPREF-SYNC-PREF:\u001b[0m Trial number 6\n",
      "    \u001b[1mCondition:\u001b[0m S\n",
      "    \u001b[1mSMT:\u001b[0m 1.7 Hz\n",
      "    \u001b[1mFrequency:\u001b[0m 0.85 Hz\n",
      "_______________________________\n",
      "\n",
      "F <- \u001b[1mPrevious\u001b[0m\n"
     ]
    }
   ],
   "source": [
    "# CODE BLOCK 6: TASK ADAPT\n",
    "\n",
    "if idx_adapt > 5:\n",
    "    print(\"No more trials left.\")\n",
    "\n",
    "else:\n",
    "    # Parameters for the trial\n",
    "    condition = order_adapt[idx_adapt]\n",
    "    freq = [SMT, np.round(0.5 * SMT, 2)] if condition == 'S' else [SMT, np.round(1.5 * SMT, 2)]\n",
    "    n_stimuli = int(np.round(20 * freq[1]))\n",
    "\n",
    "    # Generate the stimuli and the sequence\n",
    "    ioi_list = generate_iois(freq, n_stimuli, 'adapt', silence_around_stim=[20, 40])\n",
    "    stimuli = generate_stimuli(ioi_list)\n",
    "    sequence = create_sequence(ioi_list, stimuli)\n",
    "\n",
    "    # Inform user about the trial\n",
    "    print(f\"\\033[1mPREF-SYNC-PREF:\\033[0m Trial number {idx_adapt + 1}\")\n",
    "    print(f\"    \\033[1mCondition:\\033[0m {condition}\")\n",
    "    print(f\"    \\033[1mSMT:\\033[0m {SMT} Hz\")\n",
    "    print(f\"    \\033[1mFrequency:\\033[0m {freq[1]} Hz\")\n",
    "    print(\"_______________________________\\n\")\n",
    "    text_previous = f\"{order_adapt[idx_adapt-1]} <- \\033[1mPrevious\\033[0m\" if idx_adapt > 0 else \"\"\n",
    "    text_transition = \"  |  \" if 0 < idx_adapt < 5 else \"\"\n",
    "    text_next = f\"\\033[1mNext\\033[0m -> {order_adapt[idx_adapt+1]}\" if idx_adapt < 5 else \"\"\n",
    "    print(f\"{text_previous}{text_transition}{text_next}\")\n",
    "\n",
    "    # Play the sequence\n",
    "    sequence.play()\n",
    "\n",
    "    idx_adapt += 1  "
   ]
  },
  {
   "cell_type": "markdown",
   "metadata": {},
   "source": [
    "# Task 2: Continuation"
   ]
  },
  {
   "cell_type": "markdown",
   "metadata": {},
   "source": [
    "Six separate trials of the *Conti* task have to be conducted. The order of the conditions (slower or faster than SMT) have been randomized in [Code Block 3](#code-3) using the function `randomize_conditions`. Please follow these steps:\n",
    "1. Provide clear instructions to the participant\n",
    "2. Run a **practice trial** by executing **[Code Block 7](#code-7)** to familiarize the particpant with the procedure.\n",
    "2. Once the practice trial is complete, exectue **[Code Block 3](#code-3)** again to reset the `idx_conti` counter. \n",
    "3. Finally, run **[Code Block 7](#code-7)** a total of **six times**&mdash;each execution will record one measurement trial. The condition for each trial will be determined automatically using `order_conti`. When all six trials are completed, the code will display \"No more trials left\"."
   ]
  },
  {
   "cell_type": "markdown",
   "metadata": {},
   "source": [
    "<a id=\"code-7\"></a>"
   ]
  },
  {
   "cell_type": "code",
   "execution_count": 40,
   "metadata": {},
   "outputs": [
    {
     "name": "stdout",
     "output_type": "stream",
     "text": [
      "\u001b[1mSYNC-CONTINUATION:\u001b[0m Trial number 6\n",
      "    \u001b[1mCondition:\u001b[0m S\n",
      "    \u001b[1mSMT:\u001b[0m 1.7 Hz\n",
      "    \u001b[1mFrequency:\u001b[0m 0.85 Hz\n",
      "_______________________________\n",
      "\n",
      "F <- \u001b[1mPrevious\u001b[0m\n"
     ]
    }
   ],
   "source": [
    "# CODE BLOCK 7: TASK CONTI\n",
    "\n",
    "if idx_conti > 5:\n",
    "    print(\"No more trials left\")\n",
    "\n",
    "else:\n",
    "    # Parameters for the trial\n",
    "    condition = order_conti[idx_conti]\n",
    "    freq = [np.round(0.5 * SMT, 2)] if condition == 'S' else [np.round(1.5 * SMT, 2)]\n",
    "    n_stimuli = int(np.round(20 * freq[0]))\n",
    "\n",
    "    # Generate the stimuli and the sequence\n",
    "    ioi_list = generate_iois(freq, n_stimuli, 'conti', silence_around_stim=[1, 40])\n",
    "    stimuli = generate_stimuli(ioi_list)\n",
    "    sequence = create_sequence(ioi_list, stimuli)\n",
    "\n",
    "    # Inform user about the trial\n",
    "    print(f\"\\033[1mSYNC-CONTINUATION:\\033[0m Trial number {idx_conti + 1}\")\n",
    "    print(f\"    \\033[1mCondition:\\033[0m {condition}\")\n",
    "    print(f\"    \\033[1mSMT:\\033[0m {SMT} Hz\")\n",
    "    print(f\"    \\033[1mFrequency:\\033[0m {freq[0]} Hz\")\n",
    "    print(\"_______________________________\\n\")\n",
    "    text_previous = f\"{order_conti[idx_conti-1]} <- \\033[1mPrevious\\033[0m\" if idx_conti > 0 else \"\"\n",
    "    text_transition = \"  |  \" if 0 < idx_conti < 5 else \"\"\n",
    "    text_next = f\"\\033[1mNext\\033[0m -> {order_conti[idx_conti+1]}\" if idx_conti < 5 else \"\"\n",
    "    print(f\"{text_previous}{text_transition}{text_next}\")\n",
    "\n",
    "    # Play the sequence\n",
    "    sequence.play()\n",
    "\n",
    "    idx_conti += 1  "
   ]
  },
  {
   "cell_type": "markdown",
   "metadata": {},
   "source": [
    "# Task 3: Synchronization with varying frequencies"
   ]
  },
  {
   "cell_type": "markdown",
   "metadata": {},
   "source": [
    "Eight separate trials of the *Synch* task have to be conducted. The order of the conditions (increasing or decreasing frequencies) have been randomized in [Code Block 3](#code-3) using the function `randomize_conditions`. Please follow these steps:\n",
    "1. Provide clear instructions to the participant\n",
    "2. Run a **practice trial** by executing **[Code Block 8](#code-8)** to familiarize the particpant with the procedure.\n",
    "2. Once the practice trial is complete, exectue **[Code Block 3](#code-3)** again to reset the `idx_synch` counter. \n",
    "3. Finally, run **[Code Block 8](#code-8)** a total of **eight times**&mdash;each execution will record one measurement trial. The condition for each trial will be determined automatically using `order_synch`. When all eight trials are completed, the code will display \"No more trials left\"."
   ]
  },
  {
   "cell_type": "markdown",
   "metadata": {},
   "source": [
    "<a id=\"code-8\"></a>"
   ]
  },
  {
   "cell_type": "code",
   "execution_count": 50,
   "metadata": {},
   "outputs": [
    {
     "name": "stdout",
     "output_type": "stream",
     "text": [
      "\u001b[1mSYNCHRONIZATION:\u001b[0m Trial number 8\n",
      "    \u001b[1mCondition:\u001b[0m Decrease\n",
      "_______________________________\n",
      "\n",
      "I <- \u001b[1mPrevious\u001b[0m\n"
     ]
    }
   ],
   "source": [
    "if idx_synch > 7:\n",
    "    print(\"No more trials left.\")\n",
    "else:\n",
    "    condition = order_synch[idx_synch]\n",
    "    # Parameters for the trial\n",
    "    freq_beg = 1 if condition == 'I' else 7\n",
    "    freq_end = 7.1 if condition == 'I' else 0.9\n",
    "    freq_step = 0.3 if condition == 'I' else -0.3\n",
    "    freqs = np.arange(freq_beg, freq_end, freq_step)\n",
    "    n_stimuli = 15\n",
    "\n",
    "    # Generate the stimuli and the sequence\n",
    "    ioi_list = generate_iois(freqs, n_stimuli, 'synch', \n",
    "                            n_stimuli_first_plateau=20,\n",
    "                            silence_around_stim=1)\n",
    "    stimuli = generate_stimuli(ioi_list)\n",
    "    sequence = create_sequence(ioi_list, stimuli)\n",
    "\n",
    "    print(f\"\\033[1mSYNCHRONIZATION:\\033[0m Trial number {idx_synch + 1}\")\n",
    "    print(f\"    \\033[1mCondition:\\033[0m {\"Increase\" if condition == 'I' else 'Decrease'}\")\n",
    "    print(\"_______________________________\\n\")\n",
    "    text_previous = f\"{order_synch[idx_synch-1]} <- \\033[1mPrevious\\033[0m\" if idx_synch > 0 else \"\"\n",
    "    text_transition = \"  |  \" if 0 < idx_synch < 7 else \"\"\n",
    "    text_next = f\"\\033[1mNext\\033[0m -> {order_synch[idx_synch+1]}\" if idx_synch < 7 else \"\"\n",
    "    print(f\"{text_previous}{text_transition}{text_next}\")\n",
    "\n",
    "    idx_synch += 1\n",
    "    # Play the sequence\n",
    "    sequence.play()\n"
   ]
  }
 ],
 "metadata": {
  "kernelspec": {
   "display_name": ".venv",
   "language": "python",
   "name": "python3"
  },
  "language_info": {
   "codemirror_mode": {
    "name": "ipython",
    "version": 3
   },
   "file_extension": ".py",
   "mimetype": "text/x-python",
   "name": "python",
   "nbconvert_exporter": "python",
   "pygments_lexer": "ipython3",
   "version": "3.13.0"
  }
 },
 "nbformat": 4,
 "nbformat_minor": 2
}
