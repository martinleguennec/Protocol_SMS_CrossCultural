{
 "cells": [
  {
   "cell_type": "code",
   "execution_count": 1,
   "metadata": {},
   "outputs": [],
   "source": [
    "from pathlib import Path\n",
    "import os\n",
    "import numpy as np\n",
    "from numpy import random\n",
    "\n",
    "base_dir = Path().resolve()\n",
    "if base_dir.name == 'notebooks':\n",
    "    os.chdir(base_dir.parent)\n",
    "    base_dir = Path().resolve()\n",
    "\n",
    "from src.stimulus_generation import *\n",
    "from src.condition_randomization import randomize_conditions"
   ]
  },
  {
   "cell_type": "markdown",
   "metadata": {},
   "source": [
    "# Parameters for the code\n",
    "In the following bloc code, the only information you have to change is the `participant_number`. Changing this parameter is important since it is used to randomize the conditions for each task.\n",
    "\n",
    "In total, there is 1 measurement and 4 tasks:\n",
    "- **Measurement of the SMT**: mandatory to set conditions for the 2 following tasks (5 repetitions)\n",
    "- **SMT-sync-SMT**: \n",
    "    - 3 repetitions with sync 50% faster than SMT\n",
    "    - 3 repetitions with sync 50% slower than SMT\n",
    "- **Conti**:\n",
    "    - 3 repetitions with sync 50% faster than SMT\n",
    "    - 3 repetitions with sync 50% slower than SMT\n",
    "- **Synchro**:\n",
    "    - 4 repetitions with increasing frequency\n",
    "    - 4 repetitions with decreasing frequency\n",
    "\n",
    "For the three tasks, the order of the condition is randomized. The three variables `order_1`, `order_2` and `order_3` contain the order of realization for respectively **SMT-sync-SMT**, **Conti** and **Synchro**."
   ]
  },
  {
   "cell_type": "code",
   "execution_count": 2,
   "metadata": {},
   "outputs": [],
   "source": [
    "# Define the parameters for the stimulus generation\n",
    "participant_number = 2\n",
    "\n",
    "# Initiate loops for the conditions\n",
    "idx_SMT = 0\n",
    "idx_adapt = 0\n",
    "idx_conti = 0\n",
    "idx_synch = 0\n",
    "\n",
    "# Get the randomization order for the conditions\n",
    "order_adapt, order_conti, order_synch = randomize_conditions(participant_number)"
   ]
  },
  {
   "cell_type": "code",
   "execution_count": 3,
   "metadata": {},
   "outputs": [
    {
     "ename": "KeyboardInterrupt",
     "evalue": "",
     "output_type": "error",
     "traceback": [
      "\u001b[0;31m---------------------------------------------------------------------------\u001b[0m",
      "\u001b[0;31mKeyboardInterrupt\u001b[0m                         Traceback (most recent call last)",
      "Cell \u001b[0;32mIn[3], line 10\u001b[0m\n\u001b[1;32m      8\u001b[0m stimuli \u001b[38;5;241m=\u001b[39m generate_stimuli(ioi_list)\n\u001b[1;32m      9\u001b[0m sequence \u001b[38;5;241m=\u001b[39m create_sequence(ioi_list, stimuli)\n\u001b[0;32m---> 10\u001b[0m \u001b[43msequence\u001b[49m\u001b[38;5;241;43m.\u001b[39;49m\u001b[43mplay\u001b[49m\u001b[43m(\u001b[49m\u001b[43m)\u001b[49m\n\u001b[1;32m     12\u001b[0m idx_SMT \u001b[38;5;241m+\u001b[39m\u001b[38;5;241m=\u001b[39m \u001b[38;5;241m1\u001b[39m\n",
      "File \u001b[0;32m~/Documents/3_Thesis/Research/Project_3_CrossCultural_SMS/Protocol/Code/.venv/lib/python3.13/site-packages/thebeat/core/soundsequence.py:265\u001b[0m, in \u001b[0;36mSoundSequence.play\u001b[0;34m(self, loop, metronome, metronome_amplitude)\u001b[0m\n\u001b[1;32m    240\u001b[0m \u001b[38;5;28;01mdef\u001b[39;00m\u001b[38;5;250m \u001b[39m\u001b[38;5;21mplay\u001b[39m(\u001b[38;5;28mself\u001b[39m, loop: \u001b[38;5;28mbool\u001b[39m \u001b[38;5;241m=\u001b[39m \u001b[38;5;28;01mFalse\u001b[39;00m, metronome: \u001b[38;5;28mbool\u001b[39m \u001b[38;5;241m=\u001b[39m \u001b[38;5;28;01mFalse\u001b[39;00m, metronome_amplitude: \u001b[38;5;28mfloat\u001b[39m \u001b[38;5;241m=\u001b[39m \u001b[38;5;241m1.0\u001b[39m):\n\u001b[1;32m    241\u001b[0m \u001b[38;5;250m    \u001b[39m\u001b[38;5;124;03m\"\"\"\u001b[39;00m\n\u001b[1;32m    242\u001b[0m \u001b[38;5;124;03m    This method uses the :func:`sounddevice.play` to play the object's audio.\u001b[39;00m\n\u001b[1;32m    243\u001b[0m \n\u001b[0;32m   (...)\u001b[0m\n\u001b[1;32m    263\u001b[0m \n\u001b[1;32m    264\u001b[0m \u001b[38;5;124;03m    \"\"\"\u001b[39;00m\n\u001b[0;32m--> 265\u001b[0m     \u001b[43mthebeat\u001b[49m\u001b[38;5;241;43m.\u001b[39;49m\u001b[43mhelpers\u001b[49m\u001b[38;5;241;43m.\u001b[39;49m\u001b[43mplay_samples\u001b[49m\u001b[43m(\u001b[49m\n\u001b[1;32m    266\u001b[0m \u001b[43m        \u001b[49m\u001b[43msamples\u001b[49m\u001b[38;5;241;43m=\u001b[39;49m\u001b[38;5;28;43mself\u001b[39;49m\u001b[38;5;241;43m.\u001b[39;49m\u001b[43msamples\u001b[49m\u001b[43m,\u001b[49m\n\u001b[1;32m    267\u001b[0m \u001b[43m        \u001b[49m\u001b[43mfs\u001b[49m\u001b[38;5;241;43m=\u001b[39;49m\u001b[38;5;28;43mself\u001b[39;49m\u001b[38;5;241;43m.\u001b[39;49m\u001b[43mfs\u001b[49m\u001b[43m,\u001b[49m\n\u001b[1;32m    268\u001b[0m \u001b[43m        \u001b[49m\u001b[43mmean_ioi\u001b[49m\u001b[38;5;241;43m=\u001b[39;49m\u001b[38;5;28;43mself\u001b[39;49m\u001b[38;5;241;43m.\u001b[39;49m\u001b[43mmean_ioi\u001b[49m\u001b[43m,\u001b[49m\n\u001b[1;32m    269\u001b[0m \u001b[43m        \u001b[49m\u001b[43mloop\u001b[49m\u001b[38;5;241;43m=\u001b[39;49m\u001b[43mloop\u001b[49m\u001b[43m,\u001b[49m\n\u001b[1;32m    270\u001b[0m \u001b[43m        \u001b[49m\u001b[43mmetronome\u001b[49m\u001b[38;5;241;43m=\u001b[39;49m\u001b[43mmetronome\u001b[49m\u001b[43m,\u001b[49m\n\u001b[1;32m    271\u001b[0m \u001b[43m        \u001b[49m\u001b[43mmetronome_amplitude\u001b[49m\u001b[38;5;241;43m=\u001b[39;49m\u001b[43mmetronome_amplitude\u001b[49m\u001b[43m,\u001b[49m\n\u001b[1;32m    272\u001b[0m \u001b[43m    \u001b[49m\u001b[43m)\u001b[49m\n",
      "File \u001b[0;32m~/Documents/3_Thesis/Research/Project_3_CrossCultural_SMS/Protocol/Code/.venv/lib/python3.13/site-packages/thebeat/helpers.py:575\u001b[0m, in \u001b[0;36mplay_samples\u001b[0;34m(samples, fs, mean_ioi, loop, metronome, metronome_amplitude)\u001b[0m\n\u001b[1;32m    572\u001b[0m     samples \u001b[38;5;241m=\u001b[39m samples\n\u001b[1;32m    574\u001b[0m sd\u001b[38;5;241m.\u001b[39mplay(samples, fs, loop\u001b[38;5;241m=\u001b[39mloop)\n\u001b[0;32m--> 575\u001b[0m \u001b[43msd\u001b[49m\u001b[38;5;241;43m.\u001b[39;49m\u001b[43mwait\u001b[49m\u001b[43m(\u001b[49m\u001b[43m)\u001b[49m\n",
      "File \u001b[0;32m~/Documents/3_Thesis/Research/Project_3_CrossCultural_SMS/Protocol/Code/.venv/lib/python3.13/site-packages/sounddevice.py:398\u001b[0m, in \u001b[0;36mwait\u001b[0;34m(ignore_errors)\u001b[0m\n\u001b[1;32m    382\u001b[0m \u001b[38;5;250m\u001b[39m\u001b[38;5;124;03m\"\"\"Wait for `play()`/`rec()`/`playrec()` to be finished.\u001b[39;00m\n\u001b[1;32m    383\u001b[0m \n\u001b[1;32m    384\u001b[0m \u001b[38;5;124;03mPlayback/recording can be stopped with a `KeyboardInterrupt`.\u001b[39;00m\n\u001b[0;32m   (...)\u001b[0m\n\u001b[1;32m    395\u001b[0m \n\u001b[1;32m    396\u001b[0m \u001b[38;5;124;03m\"\"\"\u001b[39;00m\n\u001b[1;32m    397\u001b[0m \u001b[38;5;28;01mif\u001b[39;00m _last_callback:\n\u001b[0;32m--> 398\u001b[0m     \u001b[38;5;28;01mreturn\u001b[39;00m \u001b[43m_last_callback\u001b[49m\u001b[38;5;241;43m.\u001b[39;49m\u001b[43mwait\u001b[49m\u001b[43m(\u001b[49m\u001b[43mignore_errors\u001b[49m\u001b[43m)\u001b[49m\n",
      "File \u001b[0;32m~/Documents/3_Thesis/Research/Project_3_CrossCultural_SMS/Protocol/Code/.venv/lib/python3.13/site-packages/sounddevice.py:2645\u001b[0m, in \u001b[0;36m_CallbackContext.wait\u001b[0;34m(self, ignore_errors)\u001b[0m\n\u001b[1;32m   2639\u001b[0m \u001b[38;5;250m\u001b[39m\u001b[38;5;124;03m\"\"\"Wait for finished_callback.\u001b[39;00m\n\u001b[1;32m   2640\u001b[0m \n\u001b[1;32m   2641\u001b[0m \u001b[38;5;124;03mCan be interrupted with a KeyboardInterrupt.\u001b[39;00m\n\u001b[1;32m   2642\u001b[0m \n\u001b[1;32m   2643\u001b[0m \u001b[38;5;124;03m\"\"\"\u001b[39;00m\n\u001b[1;32m   2644\u001b[0m \u001b[38;5;28;01mtry\u001b[39;00m:\n\u001b[0;32m-> 2645\u001b[0m     \u001b[38;5;28;43mself\u001b[39;49m\u001b[38;5;241;43m.\u001b[39;49m\u001b[43mevent\u001b[49m\u001b[38;5;241;43m.\u001b[39;49m\u001b[43mwait\u001b[49m\u001b[43m(\u001b[49m\u001b[43m)\u001b[49m\n\u001b[1;32m   2646\u001b[0m \u001b[38;5;28;01mfinally\u001b[39;00m:\n\u001b[1;32m   2647\u001b[0m     \u001b[38;5;28mself\u001b[39m\u001b[38;5;241m.\u001b[39mstream\u001b[38;5;241m.\u001b[39mclose(ignore_errors)\n",
      "File \u001b[0;32m/Library/Frameworks/Python.framework/Versions/3.13/lib/python3.13/threading.py:659\u001b[0m, in \u001b[0;36mEvent.wait\u001b[0;34m(self, timeout)\u001b[0m\n\u001b[1;32m    657\u001b[0m signaled \u001b[38;5;241m=\u001b[39m \u001b[38;5;28mself\u001b[39m\u001b[38;5;241m.\u001b[39m_flag\n\u001b[1;32m    658\u001b[0m \u001b[38;5;28;01mif\u001b[39;00m \u001b[38;5;129;01mnot\u001b[39;00m signaled:\n\u001b[0;32m--> 659\u001b[0m     signaled \u001b[38;5;241m=\u001b[39m \u001b[38;5;28;43mself\u001b[39;49m\u001b[38;5;241;43m.\u001b[39;49m\u001b[43m_cond\u001b[49m\u001b[38;5;241;43m.\u001b[39;49m\u001b[43mwait\u001b[49m\u001b[43m(\u001b[49m\u001b[43mtimeout\u001b[49m\u001b[43m)\u001b[49m\n\u001b[1;32m    660\u001b[0m \u001b[38;5;28;01mreturn\u001b[39;00m signaled\n",
      "File \u001b[0;32m/Library/Frameworks/Python.framework/Versions/3.13/lib/python3.13/threading.py:359\u001b[0m, in \u001b[0;36mCondition.wait\u001b[0;34m(self, timeout)\u001b[0m\n\u001b[1;32m    357\u001b[0m \u001b[38;5;28;01mtry\u001b[39;00m:    \u001b[38;5;66;03m# restore state no matter what (e.g., KeyboardInterrupt)\u001b[39;00m\n\u001b[1;32m    358\u001b[0m     \u001b[38;5;28;01mif\u001b[39;00m timeout \u001b[38;5;129;01mis\u001b[39;00m \u001b[38;5;28;01mNone\u001b[39;00m:\n\u001b[0;32m--> 359\u001b[0m         \u001b[43mwaiter\u001b[49m\u001b[38;5;241;43m.\u001b[39;49m\u001b[43macquire\u001b[49m\u001b[43m(\u001b[49m\u001b[43m)\u001b[49m\n\u001b[1;32m    360\u001b[0m         gotit \u001b[38;5;241m=\u001b[39m \u001b[38;5;28;01mTrue\u001b[39;00m\n\u001b[1;32m    361\u001b[0m     \u001b[38;5;28;01melse\u001b[39;00m:\n",
      "\u001b[0;31mKeyboardInterrupt\u001b[0m: "
     ]
    }
   ],
   "source": [
    "# MEASURE SMT\n",
    "# ===========\n",
    "if idx_SMT > 4:\n",
    "    print(\"No more trials left.\")\n",
    "\n",
    "else:\n",
    "    ioi_list = [30 * 1000]\n",
    "    stimuli = generate_stimuli(ioi_list)\n",
    "    sequence = create_sequence(ioi_list, stimuli)\n",
    "    sequence.play()\n",
    "\n",
    "    idx_SMT += 1"
   ]
  },
  {
   "cell_type": "code",
   "execution_count": 4,
   "metadata": {},
   "outputs": [],
   "source": [
    "# Calculate the SMT and precise it here\n",
    "SMT = 1.98 # With two decimal precision"
   ]
  },
  {
   "cell_type": "code",
   "execution_count": null,
   "metadata": {},
   "outputs": [
    {
     "name": "stdout",
     "output_type": "stream",
     "text": [
      "\u001b[1mPREF-SYNC-PREF:\u001b[0m Trial number 1\n",
      "    \u001b[1mCondition:\u001b[0m S\n",
      "    \u001b[1mSMT:\u001b[0m 1.98 Hz\n",
      "    \u001b[1mFrequency:\u001b[0m 0.99 Hz\n",
      "_______________________________\n",
      "\n",
      "\u001b[1mNext\u001b[0m -> F\n"
     ]
    },
    {
     "ename": "KeyboardInterrupt",
     "evalue": "",
     "output_type": "error",
     "traceback": [
      "\u001b[0;31m---------------------------------------------------------------------------\u001b[0m",
      "\u001b[0;31mKeyboardInterrupt\u001b[0m                         Traceback (most recent call last)",
      "Cell \u001b[0;32mIn[5], line 30\u001b[0m\n\u001b[1;32m     27\u001b[0m \u001b[38;5;28mprint\u001b[39m(\u001b[38;5;124mf\u001b[39m\u001b[38;5;124m\"\u001b[39m\u001b[38;5;132;01m{\u001b[39;00mtext_previous\u001b[38;5;132;01m}\u001b[39;00m\u001b[38;5;132;01m{\u001b[39;00mtext_transition\u001b[38;5;132;01m}\u001b[39;00m\u001b[38;5;132;01m{\u001b[39;00mtext_next\u001b[38;5;132;01m}\u001b[39;00m\u001b[38;5;124m\"\u001b[39m)\n\u001b[1;32m     29\u001b[0m \u001b[38;5;66;03m# Play the sequence\u001b[39;00m\n\u001b[0;32m---> 30\u001b[0m \u001b[43msequence\u001b[49m\u001b[38;5;241;43m.\u001b[39;49m\u001b[43mplay\u001b[49m\u001b[43m(\u001b[49m\u001b[43m)\u001b[49m\n\u001b[1;32m     32\u001b[0m idx_adapt \u001b[38;5;241m+\u001b[39m\u001b[38;5;241m=\u001b[39m \u001b[38;5;241m1\u001b[39m  \n",
      "File \u001b[0;32m~/Documents/3_Thesis/Research/Project_3_CrossCultural_SMS/Protocol/Code/.venv/lib/python3.13/site-packages/thebeat/core/soundsequence.py:265\u001b[0m, in \u001b[0;36mSoundSequence.play\u001b[0;34m(self, loop, metronome, metronome_amplitude)\u001b[0m\n\u001b[1;32m    240\u001b[0m \u001b[38;5;28;01mdef\u001b[39;00m\u001b[38;5;250m \u001b[39m\u001b[38;5;21mplay\u001b[39m(\u001b[38;5;28mself\u001b[39m, loop: \u001b[38;5;28mbool\u001b[39m \u001b[38;5;241m=\u001b[39m \u001b[38;5;28;01mFalse\u001b[39;00m, metronome: \u001b[38;5;28mbool\u001b[39m \u001b[38;5;241m=\u001b[39m \u001b[38;5;28;01mFalse\u001b[39;00m, metronome_amplitude: \u001b[38;5;28mfloat\u001b[39m \u001b[38;5;241m=\u001b[39m \u001b[38;5;241m1.0\u001b[39m):\n\u001b[1;32m    241\u001b[0m \u001b[38;5;250m    \u001b[39m\u001b[38;5;124;03m\"\"\"\u001b[39;00m\n\u001b[1;32m    242\u001b[0m \u001b[38;5;124;03m    This method uses the :func:`sounddevice.play` to play the object's audio.\u001b[39;00m\n\u001b[1;32m    243\u001b[0m \n\u001b[0;32m   (...)\u001b[0m\n\u001b[1;32m    263\u001b[0m \n\u001b[1;32m    264\u001b[0m \u001b[38;5;124;03m    \"\"\"\u001b[39;00m\n\u001b[0;32m--> 265\u001b[0m     \u001b[43mthebeat\u001b[49m\u001b[38;5;241;43m.\u001b[39;49m\u001b[43mhelpers\u001b[49m\u001b[38;5;241;43m.\u001b[39;49m\u001b[43mplay_samples\u001b[49m\u001b[43m(\u001b[49m\n\u001b[1;32m    266\u001b[0m \u001b[43m        \u001b[49m\u001b[43msamples\u001b[49m\u001b[38;5;241;43m=\u001b[39;49m\u001b[38;5;28;43mself\u001b[39;49m\u001b[38;5;241;43m.\u001b[39;49m\u001b[43msamples\u001b[49m\u001b[43m,\u001b[49m\n\u001b[1;32m    267\u001b[0m \u001b[43m        \u001b[49m\u001b[43mfs\u001b[49m\u001b[38;5;241;43m=\u001b[39;49m\u001b[38;5;28;43mself\u001b[39;49m\u001b[38;5;241;43m.\u001b[39;49m\u001b[43mfs\u001b[49m\u001b[43m,\u001b[49m\n\u001b[1;32m    268\u001b[0m \u001b[43m        \u001b[49m\u001b[43mmean_ioi\u001b[49m\u001b[38;5;241;43m=\u001b[39;49m\u001b[38;5;28;43mself\u001b[39;49m\u001b[38;5;241;43m.\u001b[39;49m\u001b[43mmean_ioi\u001b[49m\u001b[43m,\u001b[49m\n\u001b[1;32m    269\u001b[0m \u001b[43m        \u001b[49m\u001b[43mloop\u001b[49m\u001b[38;5;241;43m=\u001b[39;49m\u001b[43mloop\u001b[49m\u001b[43m,\u001b[49m\n\u001b[1;32m    270\u001b[0m \u001b[43m        \u001b[49m\u001b[43mmetronome\u001b[49m\u001b[38;5;241;43m=\u001b[39;49m\u001b[43mmetronome\u001b[49m\u001b[43m,\u001b[49m\n\u001b[1;32m    271\u001b[0m \u001b[43m        \u001b[49m\u001b[43mmetronome_amplitude\u001b[49m\u001b[38;5;241;43m=\u001b[39;49m\u001b[43mmetronome_amplitude\u001b[49m\u001b[43m,\u001b[49m\n\u001b[1;32m    272\u001b[0m \u001b[43m    \u001b[49m\u001b[43m)\u001b[49m\n",
      "File \u001b[0;32m~/Documents/3_Thesis/Research/Project_3_CrossCultural_SMS/Protocol/Code/.venv/lib/python3.13/site-packages/thebeat/helpers.py:575\u001b[0m, in \u001b[0;36mplay_samples\u001b[0;34m(samples, fs, mean_ioi, loop, metronome, metronome_amplitude)\u001b[0m\n\u001b[1;32m    572\u001b[0m     samples \u001b[38;5;241m=\u001b[39m samples\n\u001b[1;32m    574\u001b[0m sd\u001b[38;5;241m.\u001b[39mplay(samples, fs, loop\u001b[38;5;241m=\u001b[39mloop)\n\u001b[0;32m--> 575\u001b[0m \u001b[43msd\u001b[49m\u001b[38;5;241;43m.\u001b[39;49m\u001b[43mwait\u001b[49m\u001b[43m(\u001b[49m\u001b[43m)\u001b[49m\n",
      "File \u001b[0;32m~/Documents/3_Thesis/Research/Project_3_CrossCultural_SMS/Protocol/Code/.venv/lib/python3.13/site-packages/sounddevice.py:398\u001b[0m, in \u001b[0;36mwait\u001b[0;34m(ignore_errors)\u001b[0m\n\u001b[1;32m    382\u001b[0m \u001b[38;5;250m\u001b[39m\u001b[38;5;124;03m\"\"\"Wait for `play()`/`rec()`/`playrec()` to be finished.\u001b[39;00m\n\u001b[1;32m    383\u001b[0m \n\u001b[1;32m    384\u001b[0m \u001b[38;5;124;03mPlayback/recording can be stopped with a `KeyboardInterrupt`.\u001b[39;00m\n\u001b[0;32m   (...)\u001b[0m\n\u001b[1;32m    395\u001b[0m \n\u001b[1;32m    396\u001b[0m \u001b[38;5;124;03m\"\"\"\u001b[39;00m\n\u001b[1;32m    397\u001b[0m \u001b[38;5;28;01mif\u001b[39;00m _last_callback:\n\u001b[0;32m--> 398\u001b[0m     \u001b[38;5;28;01mreturn\u001b[39;00m \u001b[43m_last_callback\u001b[49m\u001b[38;5;241;43m.\u001b[39;49m\u001b[43mwait\u001b[49m\u001b[43m(\u001b[49m\u001b[43mignore_errors\u001b[49m\u001b[43m)\u001b[49m\n",
      "File \u001b[0;32m~/Documents/3_Thesis/Research/Project_3_CrossCultural_SMS/Protocol/Code/.venv/lib/python3.13/site-packages/sounddevice.py:2645\u001b[0m, in \u001b[0;36m_CallbackContext.wait\u001b[0;34m(self, ignore_errors)\u001b[0m\n\u001b[1;32m   2639\u001b[0m \u001b[38;5;250m\u001b[39m\u001b[38;5;124;03m\"\"\"Wait for finished_callback.\u001b[39;00m\n\u001b[1;32m   2640\u001b[0m \n\u001b[1;32m   2641\u001b[0m \u001b[38;5;124;03mCan be interrupted with a KeyboardInterrupt.\u001b[39;00m\n\u001b[1;32m   2642\u001b[0m \n\u001b[1;32m   2643\u001b[0m \u001b[38;5;124;03m\"\"\"\u001b[39;00m\n\u001b[1;32m   2644\u001b[0m \u001b[38;5;28;01mtry\u001b[39;00m:\n\u001b[0;32m-> 2645\u001b[0m     \u001b[38;5;28;43mself\u001b[39;49m\u001b[38;5;241;43m.\u001b[39;49m\u001b[43mevent\u001b[49m\u001b[38;5;241;43m.\u001b[39;49m\u001b[43mwait\u001b[49m\u001b[43m(\u001b[49m\u001b[43m)\u001b[49m\n\u001b[1;32m   2646\u001b[0m \u001b[38;5;28;01mfinally\u001b[39;00m:\n\u001b[1;32m   2647\u001b[0m     \u001b[38;5;28mself\u001b[39m\u001b[38;5;241m.\u001b[39mstream\u001b[38;5;241m.\u001b[39mclose(ignore_errors)\n",
      "File \u001b[0;32m/Library/Frameworks/Python.framework/Versions/3.13/lib/python3.13/threading.py:659\u001b[0m, in \u001b[0;36mEvent.wait\u001b[0;34m(self, timeout)\u001b[0m\n\u001b[1;32m    657\u001b[0m signaled \u001b[38;5;241m=\u001b[39m \u001b[38;5;28mself\u001b[39m\u001b[38;5;241m.\u001b[39m_flag\n\u001b[1;32m    658\u001b[0m \u001b[38;5;28;01mif\u001b[39;00m \u001b[38;5;129;01mnot\u001b[39;00m signaled:\n\u001b[0;32m--> 659\u001b[0m     signaled \u001b[38;5;241m=\u001b[39m \u001b[38;5;28;43mself\u001b[39;49m\u001b[38;5;241;43m.\u001b[39;49m\u001b[43m_cond\u001b[49m\u001b[38;5;241;43m.\u001b[39;49m\u001b[43mwait\u001b[49m\u001b[43m(\u001b[49m\u001b[43mtimeout\u001b[49m\u001b[43m)\u001b[49m\n\u001b[1;32m    660\u001b[0m \u001b[38;5;28;01mreturn\u001b[39;00m signaled\n",
      "File \u001b[0;32m/Library/Frameworks/Python.framework/Versions/3.13/lib/python3.13/threading.py:359\u001b[0m, in \u001b[0;36mCondition.wait\u001b[0;34m(self, timeout)\u001b[0m\n\u001b[1;32m    357\u001b[0m \u001b[38;5;28;01mtry\u001b[39;00m:    \u001b[38;5;66;03m# restore state no matter what (e.g., KeyboardInterrupt)\u001b[39;00m\n\u001b[1;32m    358\u001b[0m     \u001b[38;5;28;01mif\u001b[39;00m timeout \u001b[38;5;129;01mis\u001b[39;00m \u001b[38;5;28;01mNone\u001b[39;00m:\n\u001b[0;32m--> 359\u001b[0m         \u001b[43mwaiter\u001b[49m\u001b[38;5;241;43m.\u001b[39;49m\u001b[43macquire\u001b[49m\u001b[43m(\u001b[49m\u001b[43m)\u001b[49m\n\u001b[1;32m    360\u001b[0m         gotit \u001b[38;5;241m=\u001b[39m \u001b[38;5;28;01mTrue\u001b[39;00m\n\u001b[1;32m    361\u001b[0m     \u001b[38;5;28;01melse\u001b[39;00m:\n",
      "\u001b[0;31mKeyboardInterrupt\u001b[0m: "
     ]
    }
   ],
   "source": [
    "# TASK PREF-SYNC-PREF\n",
    "# ===================\n",
    "\n",
    "if idx_adapt > 5:\n",
    "    print(\"No more trials left.\")\n",
    "\n",
    "else:\n",
    "    # Parameters for the trial\n",
    "    condition = order_adapt[idx_adapt]\n",
    "    freq = [SMT, np.round(0.5 * SMT, 2)] if condition == 'S' else [SMT, np.round(1.5 * SMT, 2)]\n",
    "    n_stimuli = int(np.round(20 * freq[1]))\n",
    "\n",
    "    # Generate the stimuli and the sequence\n",
    "    ioi_list = generate_iois(freq, n_stimuli, 'pref_sync_pref', silence_around_stim=[20, 40])\n",
    "    stimuli = generate_stimuli(ioi_list)\n",
    "    sequence = create_sequence(ioi_list, stimuli)\n",
    "\n",
    "    # Inform user about the trial\n",
    "    print(f\"\\033[1mPREF-SYNC-PREF:\\033[0m Trial number {idx_adapt + 1}\")\n",
    "    print(f\"    \\033[1mCondition:\\033[0m {condition}\")\n",
    "    print(f\"    \\033[1mSMT:\\033[0m {SMT} Hz\")\n",
    "    print(f\"    \\033[1mFrequency:\\033[0m {freq[1]} Hz\")\n",
    "    print(\"_______________________________\\n\")\n",
    "    text_previous = f\"{order_adapt[idx_adapt-1]} <- \\033[1mPrevious\\033[0m\" if idx_adapt > 0 else \"\"\n",
    "    text_transition = \"  |  \" if 0 < idx_adapt < 5 else \"\"\n",
    "    text_next = f\"\\033[1mNext\\033[0m -> {order_adapt[idx_adapt+1]}\" if idx_adapt < 5 else \"\"\n",
    "    print(f\"{text_previous}{text_transition}{text_next}\")\n",
    "\n",
    "    # Play the sequence\n",
    "    sequence.play()\n",
    "\n",
    "    idx_adapt += 1  "
   ]
  },
  {
   "cell_type": "code",
   "execution_count": 7,
   "metadata": {},
   "outputs": [
    {
     "name": "stdout",
     "output_type": "stream",
     "text": [
      "\u001b[1mSYNC-CONTINUATION:\u001b[0m Trial number 1\n",
      "    \u001b[1mCondition:\u001b[0m S\n",
      "    \u001b[1mSMT:\u001b[0m 1.98 Hz\n",
      "    \u001b[1mFrequency:\u001b[0m 0.99 Hz\n",
      "_______________________________\n",
      "\n",
      "\u001b[1mNext\u001b[0m -> F\n"
     ]
    }
   ],
   "source": [
    "# TASK SYNC-CONTINUATION\n",
    "# ======================\n",
    "\n",
    "if idx_conti > 5:\n",
    "    print(\"No more trials left\")\n",
    "\n",
    "else:\n",
    "    # Parameters for the trial\n",
    "    condition = order_conti[idx_conti]\n",
    "    freq = [np.round(0.5 * SMT, 2)] if condition == 'S' else [np.round(1.5 * SMT, 2)]\n",
    "    n_stimuli = int(np.round(20 * freq[0]))\n",
    "\n",
    "    # Generate the stimuli and the sequence\n",
    "    ioi_list = generate_iois(freq, n_stimuli, 'continuation', silence_around_stim=[1, 40])\n",
    "    stimuli = generate_stimuli(ioi_list)\n",
    "    sequence = create_sequence(ioi_list, stimuli)\n",
    "\n",
    "    # Inform user about the trial\n",
    "    print(f\"\\033[1mSYNC-CONTINUATION:\\033[0m Trial number {idx_conti + 1}\")\n",
    "    print(f\"    \\033[1mCondition:\\033[0m {condition}\")\n",
    "    print(f\"    \\033[1mSMT:\\033[0m {SMT} Hz\")\n",
    "    print(f\"    \\033[1mFrequency:\\033[0m {freq[0]} Hz\")\n",
    "    print(\"_______________________________\\n\")\n",
    "    text_previous = f\"{order_conti[idx_conti-1]} <- \\033[1mPrevious\\033[0m\" if idx_conti > 0 else \"\"\n",
    "    text_transition = \"  |  \" if 0 < idx_conti < 5 else \"\"\n",
    "    text_next = f\"\\033[1mNext\\033[0m -> {order_conti[idx_conti+1]}\" if idx_conti < 5 else \"\"\n",
    "    print(f\"{text_previous}{text_transition}{text_next}\")\n",
    "\n",
    "    # Play the sequence\n",
    "    sequence.play()\n",
    "\n",
    "    idx_conti += 1  "
   ]
  },
  {
   "cell_type": "code",
   "execution_count": 8,
   "metadata": {},
   "outputs": [
    {
     "name": "stdout",
     "output_type": "stream",
     "text": [
      "\u001b[1mSYNCHRONIZATION:\u001b[0m Trial number 1\n",
      "    \u001b[1mCondition:\u001b[0m Increase\n",
      "_______________________________\n",
      "\n",
      "\u001b[1mNext\u001b[0m -> I\n"
     ]
    },
    {
     "ename": "KeyboardInterrupt",
     "evalue": "",
     "output_type": "error",
     "traceback": [
      "\u001b[0;31m---------------------------------------------------------------------------\u001b[0m",
      "\u001b[0;31mKeyboardInterrupt\u001b[0m                         Traceback (most recent call last)",
      "Cell \u001b[0;32mIn[8], line 29\u001b[0m\n\u001b[1;32m     27\u001b[0m idx_synch \u001b[38;5;241m+\u001b[39m\u001b[38;5;241m=\u001b[39m \u001b[38;5;241m1\u001b[39m\n\u001b[1;32m     28\u001b[0m \u001b[38;5;66;03m# Play the sequence\u001b[39;00m\n\u001b[0;32m---> 29\u001b[0m \u001b[43msequence\u001b[49m\u001b[38;5;241;43m.\u001b[39;49m\u001b[43mplay\u001b[49m\u001b[43m(\u001b[49m\u001b[43m)\u001b[49m\n",
      "File \u001b[0;32m~/Documents/3_Thesis/Research/Project_3_CrossCultural_SMS/Protocol/Code/.venv/lib/python3.13/site-packages/thebeat/core/soundsequence.py:265\u001b[0m, in \u001b[0;36mSoundSequence.play\u001b[0;34m(self, loop, metronome, metronome_amplitude)\u001b[0m\n\u001b[1;32m    240\u001b[0m \u001b[38;5;28;01mdef\u001b[39;00m\u001b[38;5;250m \u001b[39m\u001b[38;5;21mplay\u001b[39m(\u001b[38;5;28mself\u001b[39m, loop: \u001b[38;5;28mbool\u001b[39m \u001b[38;5;241m=\u001b[39m \u001b[38;5;28;01mFalse\u001b[39;00m, metronome: \u001b[38;5;28mbool\u001b[39m \u001b[38;5;241m=\u001b[39m \u001b[38;5;28;01mFalse\u001b[39;00m, metronome_amplitude: \u001b[38;5;28mfloat\u001b[39m \u001b[38;5;241m=\u001b[39m \u001b[38;5;241m1.0\u001b[39m):\n\u001b[1;32m    241\u001b[0m \u001b[38;5;250m    \u001b[39m\u001b[38;5;124;03m\"\"\"\u001b[39;00m\n\u001b[1;32m    242\u001b[0m \u001b[38;5;124;03m    This method uses the :func:`sounddevice.play` to play the object's audio.\u001b[39;00m\n\u001b[1;32m    243\u001b[0m \n\u001b[0;32m   (...)\u001b[0m\n\u001b[1;32m    263\u001b[0m \n\u001b[1;32m    264\u001b[0m \u001b[38;5;124;03m    \"\"\"\u001b[39;00m\n\u001b[0;32m--> 265\u001b[0m     \u001b[43mthebeat\u001b[49m\u001b[38;5;241;43m.\u001b[39;49m\u001b[43mhelpers\u001b[49m\u001b[38;5;241;43m.\u001b[39;49m\u001b[43mplay_samples\u001b[49m\u001b[43m(\u001b[49m\n\u001b[1;32m    266\u001b[0m \u001b[43m        \u001b[49m\u001b[43msamples\u001b[49m\u001b[38;5;241;43m=\u001b[39;49m\u001b[38;5;28;43mself\u001b[39;49m\u001b[38;5;241;43m.\u001b[39;49m\u001b[43msamples\u001b[49m\u001b[43m,\u001b[49m\n\u001b[1;32m    267\u001b[0m \u001b[43m        \u001b[49m\u001b[43mfs\u001b[49m\u001b[38;5;241;43m=\u001b[39;49m\u001b[38;5;28;43mself\u001b[39;49m\u001b[38;5;241;43m.\u001b[39;49m\u001b[43mfs\u001b[49m\u001b[43m,\u001b[49m\n\u001b[1;32m    268\u001b[0m \u001b[43m        \u001b[49m\u001b[43mmean_ioi\u001b[49m\u001b[38;5;241;43m=\u001b[39;49m\u001b[38;5;28;43mself\u001b[39;49m\u001b[38;5;241;43m.\u001b[39;49m\u001b[43mmean_ioi\u001b[49m\u001b[43m,\u001b[49m\n\u001b[1;32m    269\u001b[0m \u001b[43m        \u001b[49m\u001b[43mloop\u001b[49m\u001b[38;5;241;43m=\u001b[39;49m\u001b[43mloop\u001b[49m\u001b[43m,\u001b[49m\n\u001b[1;32m    270\u001b[0m \u001b[43m        \u001b[49m\u001b[43mmetronome\u001b[49m\u001b[38;5;241;43m=\u001b[39;49m\u001b[43mmetronome\u001b[49m\u001b[43m,\u001b[49m\n\u001b[1;32m    271\u001b[0m \u001b[43m        \u001b[49m\u001b[43mmetronome_amplitude\u001b[49m\u001b[38;5;241;43m=\u001b[39;49m\u001b[43mmetronome_amplitude\u001b[49m\u001b[43m,\u001b[49m\n\u001b[1;32m    272\u001b[0m \u001b[43m    \u001b[49m\u001b[43m)\u001b[49m\n",
      "File \u001b[0;32m~/Documents/3_Thesis/Research/Project_3_CrossCultural_SMS/Protocol/Code/.venv/lib/python3.13/site-packages/thebeat/helpers.py:575\u001b[0m, in \u001b[0;36mplay_samples\u001b[0;34m(samples, fs, mean_ioi, loop, metronome, metronome_amplitude)\u001b[0m\n\u001b[1;32m    572\u001b[0m     samples \u001b[38;5;241m=\u001b[39m samples\n\u001b[1;32m    574\u001b[0m sd\u001b[38;5;241m.\u001b[39mplay(samples, fs, loop\u001b[38;5;241m=\u001b[39mloop)\n\u001b[0;32m--> 575\u001b[0m \u001b[43msd\u001b[49m\u001b[38;5;241;43m.\u001b[39;49m\u001b[43mwait\u001b[49m\u001b[43m(\u001b[49m\u001b[43m)\u001b[49m\n",
      "File \u001b[0;32m~/Documents/3_Thesis/Research/Project_3_CrossCultural_SMS/Protocol/Code/.venv/lib/python3.13/site-packages/sounddevice.py:398\u001b[0m, in \u001b[0;36mwait\u001b[0;34m(ignore_errors)\u001b[0m\n\u001b[1;32m    382\u001b[0m \u001b[38;5;250m\u001b[39m\u001b[38;5;124;03m\"\"\"Wait for `play()`/`rec()`/`playrec()` to be finished.\u001b[39;00m\n\u001b[1;32m    383\u001b[0m \n\u001b[1;32m    384\u001b[0m \u001b[38;5;124;03mPlayback/recording can be stopped with a `KeyboardInterrupt`.\u001b[39;00m\n\u001b[0;32m   (...)\u001b[0m\n\u001b[1;32m    395\u001b[0m \n\u001b[1;32m    396\u001b[0m \u001b[38;5;124;03m\"\"\"\u001b[39;00m\n\u001b[1;32m    397\u001b[0m \u001b[38;5;28;01mif\u001b[39;00m _last_callback:\n\u001b[0;32m--> 398\u001b[0m     \u001b[38;5;28;01mreturn\u001b[39;00m \u001b[43m_last_callback\u001b[49m\u001b[38;5;241;43m.\u001b[39;49m\u001b[43mwait\u001b[49m\u001b[43m(\u001b[49m\u001b[43mignore_errors\u001b[49m\u001b[43m)\u001b[49m\n",
      "File \u001b[0;32m~/Documents/3_Thesis/Research/Project_3_CrossCultural_SMS/Protocol/Code/.venv/lib/python3.13/site-packages/sounddevice.py:2645\u001b[0m, in \u001b[0;36m_CallbackContext.wait\u001b[0;34m(self, ignore_errors)\u001b[0m\n\u001b[1;32m   2639\u001b[0m \u001b[38;5;250m\u001b[39m\u001b[38;5;124;03m\"\"\"Wait for finished_callback.\u001b[39;00m\n\u001b[1;32m   2640\u001b[0m \n\u001b[1;32m   2641\u001b[0m \u001b[38;5;124;03mCan be interrupted with a KeyboardInterrupt.\u001b[39;00m\n\u001b[1;32m   2642\u001b[0m \n\u001b[1;32m   2643\u001b[0m \u001b[38;5;124;03m\"\"\"\u001b[39;00m\n\u001b[1;32m   2644\u001b[0m \u001b[38;5;28;01mtry\u001b[39;00m:\n\u001b[0;32m-> 2645\u001b[0m     \u001b[38;5;28;43mself\u001b[39;49m\u001b[38;5;241;43m.\u001b[39;49m\u001b[43mevent\u001b[49m\u001b[38;5;241;43m.\u001b[39;49m\u001b[43mwait\u001b[49m\u001b[43m(\u001b[49m\u001b[43m)\u001b[49m\n\u001b[1;32m   2646\u001b[0m \u001b[38;5;28;01mfinally\u001b[39;00m:\n\u001b[1;32m   2647\u001b[0m     \u001b[38;5;28mself\u001b[39m\u001b[38;5;241m.\u001b[39mstream\u001b[38;5;241m.\u001b[39mclose(ignore_errors)\n",
      "File \u001b[0;32m/Library/Frameworks/Python.framework/Versions/3.13/lib/python3.13/threading.py:659\u001b[0m, in \u001b[0;36mEvent.wait\u001b[0;34m(self, timeout)\u001b[0m\n\u001b[1;32m    657\u001b[0m signaled \u001b[38;5;241m=\u001b[39m \u001b[38;5;28mself\u001b[39m\u001b[38;5;241m.\u001b[39m_flag\n\u001b[1;32m    658\u001b[0m \u001b[38;5;28;01mif\u001b[39;00m \u001b[38;5;129;01mnot\u001b[39;00m signaled:\n\u001b[0;32m--> 659\u001b[0m     signaled \u001b[38;5;241m=\u001b[39m \u001b[38;5;28;43mself\u001b[39;49m\u001b[38;5;241;43m.\u001b[39;49m\u001b[43m_cond\u001b[49m\u001b[38;5;241;43m.\u001b[39;49m\u001b[43mwait\u001b[49m\u001b[43m(\u001b[49m\u001b[43mtimeout\u001b[49m\u001b[43m)\u001b[49m\n\u001b[1;32m    660\u001b[0m \u001b[38;5;28;01mreturn\u001b[39;00m signaled\n",
      "File \u001b[0;32m/Library/Frameworks/Python.framework/Versions/3.13/lib/python3.13/threading.py:359\u001b[0m, in \u001b[0;36mCondition.wait\u001b[0;34m(self, timeout)\u001b[0m\n\u001b[1;32m    357\u001b[0m \u001b[38;5;28;01mtry\u001b[39;00m:    \u001b[38;5;66;03m# restore state no matter what (e.g., KeyboardInterrupt)\u001b[39;00m\n\u001b[1;32m    358\u001b[0m     \u001b[38;5;28;01mif\u001b[39;00m timeout \u001b[38;5;129;01mis\u001b[39;00m \u001b[38;5;28;01mNone\u001b[39;00m:\n\u001b[0;32m--> 359\u001b[0m         \u001b[43mwaiter\u001b[49m\u001b[38;5;241;43m.\u001b[39;49m\u001b[43macquire\u001b[49m\u001b[43m(\u001b[49m\u001b[43m)\u001b[49m\n\u001b[1;32m    360\u001b[0m         gotit \u001b[38;5;241m=\u001b[39m \u001b[38;5;28;01mTrue\u001b[39;00m\n\u001b[1;32m    361\u001b[0m     \u001b[38;5;28;01melse\u001b[39;00m:\n",
      "\u001b[0;31mKeyboardInterrupt\u001b[0m: "
     ]
    }
   ],
   "source": [
    "if idx_synch > 7:\n",
    "    print(\"No more trials left.\")\n",
    "else:\n",
    "    condition = order_synch[idx_synch]\n",
    "    # Parameters for the trial\n",
    "    freq_beg = 1 if condition == 'I' else 7\n",
    "    freq_end = 7.1 if condition == 'I' else 0.9\n",
    "    freq_step = 0.3 if condition == 'I' else -0.3\n",
    "    freqs = np.arange(freq_beg, freq_end, freq_step)\n",
    "    n_stimuli = 15\n",
    "\n",
    "    # Generate the stimuli and the sequence\n",
    "    ioi_list = generate_iois(freqs, n_stimuli, 'synchro', \n",
    "                            n_stimuli_first_plateau=20,\n",
    "                            silence_around_stim=1)\n",
    "    stimuli = generate_stimuli(ioi_list)\n",
    "    sequence = create_sequence(ioi_list, stimuli)\n",
    "\n",
    "    print(f\"\\033[1mSYNCHRONIZATION:\\033[0m Trial number {idx_synch + 1}\")\n",
    "    print(f\"    \\033[1mCondition:\\033[0m {\"Increase\" if condition == 'I' else 'Decrease'}\")\n",
    "    print(\"_______________________________\\n\")\n",
    "    text_previous = f\"{order_synch[idx_synch-1]} <- \\033[1mPrevious\\033[0m\" if idx_synch > 0 else \"\"\n",
    "    text_transition = \"  |  \" if 0 < idx_synch < 7 else \"\"\n",
    "    text_next = f\"\\033[1mNext\\033[0m -> {order_synch[idx_synch+1]}\" if idx_synch < 7 else \"\"\n",
    "    print(f\"{text_previous}{text_transition}{text_next}\")\n",
    "\n",
    "    idx_synch += 1\n",
    "    # Play the sequence\n",
    "    sequence.play()\n"
   ]
  }
 ],
 "metadata": {
  "kernelspec": {
   "display_name": ".venv",
   "language": "python",
   "name": "python3"
  },
  "language_info": {
   "codemirror_mode": {
    "name": "ipython",
    "version": 3
   },
   "file_extension": ".py",
   "mimetype": "text/x-python",
   "name": "python",
   "nbconvert_exporter": "python",
   "pygments_lexer": "ipython3",
   "version": "3.13.0"
  }
 },
 "nbformat": 4,
 "nbformat_minor": 2
}
