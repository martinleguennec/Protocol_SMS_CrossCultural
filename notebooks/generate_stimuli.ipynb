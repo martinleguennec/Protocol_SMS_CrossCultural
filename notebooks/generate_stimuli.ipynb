{
 "cells": [
  {
   "cell_type": "code",
   "execution_count": 2,
   "metadata": {},
   "outputs": [],
   "source": [
    "from pathlib import Path\n",
    "import os\n",
    "import numpy as np\n",
    "\n",
    "base_dir = Path().resolve()\n",
    "if base_dir.name == 'notebooks':\n",
    "    os.chdir(base_dir.parent)\n",
    "    base_dir = Path().resolve()\n",
    "\n",
    "from src.stimulus_generation import *\n",
    "from src.condition_randomization import randomize_conditions"
   ]
  },
  {
   "cell_type": "code",
   "execution_count": 3,
   "metadata": {},
   "outputs": [],
   "source": [
    "# Define the parameters for the stimulus generation\n",
    "participant_number = 1\n",
    "SMT = 2\n",
    "\n",
    "# Initiate loops for the conditions\n",
    "i = 0\n",
    "j = 0\n",
    "k = 0\n",
    "l = 0"
   ]
  },
  {
   "cell_type": "code",
   "execution_count": 4,
   "metadata": {},
   "outputs": [],
   "source": [
    "# Get the randomization order for the conditions\n",
    "order_1, order_2 = randomize_conditions(participant_number)"
   ]
  },
  {
   "cell_type": "code",
   "execution_count": null,
   "metadata": {},
   "outputs": [
    {
     "name": "stdout",
     "output_type": "stream",
     "text": [
      "No more trials left.\n"
     ]
    }
   ],
   "source": [
    "# TASK PREF-SYNC-PREF\n",
    "# ===================\n",
    "\n",
    "if i > 5:\n",
    "    print(\"No more trials left.\")\n",
    "\n",
    "else:\n",
    "    # Parameters for the trial\n",
    "    condition = order_1[i]\n",
    "    freq = [SMT, 0.8 * SMT] if condition == 'S' else [SMT, 1.2 * SMT]\n",
    "    n_stimuli = int(np.round(20 * freq[1]))\n",
    "\n",
    "    # Generate the stimuli and the sequence\n",
    "    ioi_list = generate_iois(freq, n_stimuli, 'pref_sync_pref', silence_around_stim=[20, 30])\n",
    "    stimuli = generate_stimuli(ioi_list)\n",
    "    sequence = create_sequence(ioi_list, stimuli)\n",
    "\n",
    "    # Inform user about the trial\n",
    "    print(f\"\\033[1mPREF-SYNC-PREF:\\033[0m Trial number {i + 1}\")\n",
    "    print(f\"    \\033[1mCondition:\\033[0m {condition}\")\n",
    "    print(f\"    \\033[1mSMT:\\033[0m {SMT} Hz\")\n",
    "    print(f\"    \\033[1mFrequency:\\033[0m {freq[1]} Hz\")\n",
    "    print(\"_______________________________\\n\")\n",
    "    text_previous = f\"{order_1[i-1]} <- \\033[1mPrevious\\033[0m\" if i > 0 else \"\"\n",
    "    text_transition = \"  |  \" if 0 < i < 5 else \"\"\n",
    "    text_next = f\"\\033[1mNext\\033[0m -> {order_1[i+1]}\" if i < 5 else \"\"\n",
    "    print(f\"{text_previous}{text_transition}{text_next}\")\n",
    "\n",
    "    # Play the sequence\n",
    "    sequence.play()\n",
    "\n",
    "    i += 1  "
   ]
  },
  {
   "cell_type": "code",
   "execution_count": null,
   "metadata": {},
   "outputs": [
    {
     "name": "stdout",
     "output_type": "stream",
     "text": [
      "\u001b[1mSYNC-continuation:\u001b[0m Trial number 1\n",
      "    \u001b[1mCondition:\u001b[0m S\n",
      "    \u001b[1mSMT:\u001b[0m 2 Hz\n",
      "    \u001b[1mFrequency:\u001b[0m 1.6 Hz\n",
      "_______________________________\n",
      "\n",
      "\u001b[1mNext\u001b[0m -> F\n"
     ]
    }
   ],
   "source": [
    "# TASK SYNC-CONTINUATION\n",
    "# ======================\n",
    "\n",
    "if j > 5:\n",
    "    print(\"No more trials left\")\n",
    "\n",
    "else:\n",
    "    # Parameters for the trial\n",
    "    condition = order_2[j]\n",
    "    freq = [0.8 * SMT] if condition == 'S' else [1.2 * SMT]\n",
    "    n_stimuli = int(np.round(20 * freq[0]))\n",
    "\n",
    "    # Generate the stimuli and the sequence\n",
    "    ioi_list = generate_iois(freq, n_stimuli, 'continuation', silence_around_stim=[2, 30])\n",
    "    stimuli = generate_stimuli(ioi_list)\n",
    "    sequence = create_sequence(ioi_list, stimuli)\n",
    "\n",
    "    # Inform user about the trial\n",
    "    print(f\"\\033[1mSYNC-CONTINUATION:\\033[0m Trial number {j + 1}\")\n",
    "    print(f\"    \\033[1mCondition:\\033[0m {condition}\")\n",
    "    print(f\"    \\033[1mSMT:\\033[0m {SMT} Hz\")\n",
    "    print(f\"    \\033[1mFrequency:\\033[0m {freq[0]} Hz\")\n",
    "    print(\"_______________________________\\n\")\n",
    "    text_previous = f\"{order_1[j-1]} <- \\033[1mPrevious\\033[0m\" if j > 0 else \"\"\n",
    "    text_transition = \"  |  \" if 0 < j < 5 else \"\"\n",
    "    text_next = f\"\\033[1mNext\\033[0m -> {order_1[j+1]}\" if j < 5 else \"\"\n",
    "    print(f\"{text_previous}{text_transition}{text_next}\")\n",
    "\n",
    "    # Play the sequence\n",
    "    sequence.play()\n",
    "\n",
    "    j += 1  "
   ]
  },
  {
   "cell_type": "code",
   "execution_count": null,
   "metadata": {},
   "outputs": [
    {
     "name": "stdout",
     "output_type": "stream",
     "text": [
      "\u001b[1mSYNC INCREASING FREQ:\u001b[0m Trial number 1\n",
      "    \u001b[1mBeginning:\u001b[0m 1 Hz\n",
      "    \u001b[1mEnding:\u001b[0m 7 Hz\n"
     ]
    },
    {
     "name": "stderr",
     "output_type": "stream",
     "text": [
      "/Users/martinleguennec/Documents/3_Thesis/Research/Project_3_CrossCultural_SMS/Protocol/Code/.venv/lib/python3.13/site-packages/thebeat/core/soundsequence.py:513: UserWarning: thebeat: For one or more of the used sounds, the exact start or end positions in frames (i.e. samples) were rounded off to the neirest integer ceiling. This shouldn't be a problem. To get rid of this warning, try rounding off the onsets in the passed Sequence object by calling Sequence.round_onsets() before passing the object to the SoundSequence constructor.\n",
      "  warnings.warn(thebeat._warnings.framerounding_soundseq)\n"
     ]
    }
   ],
   "source": [
    "# TASK SYNCHRONIZATION INCREASING FREQUENCIES\n",
    "# ===========================================\n",
    "\n",
    "if k > 4:\n",
    "    print(\"No more trials left\")\n",
    "\n",
    "else:\n",
    "    # Parameters for the trial\n",
    "    freq_beg = 1\n",
    "    freq_end = 7\n",
    "    freq_step = 0.3\n",
    "    freqs = np.arange(freq_beg, freq_end+0.1, freq_step)\n",
    "    n_stimuli = 15\n",
    "\n",
    "    # Generate the stimuli and the sequence\n",
    "    ioi_list = generate_iois(freqs, n_stimuli, 'synchro', \n",
    "                            n_stimuli_first_plateau=20,\n",
    "                            silence_around_stim=2)\n",
    "    stimuli = generate_stimuli(ioi_list)\n",
    "    sequence = create_sequence(ioi_list, stimuli)\n",
    "\n",
    "    # Inform user about the trial\n",
    "    print(f\"\\033[1mSYNC INCREASING FREQ:\\033[0m Trial number {k + 1}\")\n",
    "    print(f\"    \\033[1mBeginning:\\033[0m {np.round(freq_beg,1)} Hz\")\n",
    "    print(f\"    \\033[1mEnding:\\033[0m {np.round(freq_end,1)} Hz\")\n",
    "\n",
    "    # Play the sequence\n",
    "    sequence.play()\n",
    "\n",
    "    k += 1"
   ]
  },
  {
   "cell_type": "code",
   "execution_count": 5,
   "metadata": {},
   "outputs": [
    {
     "name": "stdout",
     "output_type": "stream",
     "text": [
      "\u001b[1mSYNC DECREASING FREQ:\u001b[0m Trial number 1\n",
      "    \u001b[1mBeginning:\u001b[0m 7 Hz\n",
      "    \u001b[1mEnding:\u001b[0m 1 Hz\n"
     ]
    },
    {
     "ename": "KeyboardInterrupt",
     "evalue": "",
     "output_type": "error",
     "traceback": [
      "\u001b[0;31m---------------------------------------------------------------------------\u001b[0m",
      "\u001b[0;31mKeyboardInterrupt\u001b[0m                         Traceback (most recent call last)",
      "Cell \u001b[0;32mIn[5], line 28\u001b[0m\n\u001b[1;32m     25\u001b[0m \u001b[38;5;28mprint\u001b[39m(\u001b[38;5;124mf\u001b[39m\u001b[38;5;124m\"\u001b[39m\u001b[38;5;124m    \u001b[39m\u001b[38;5;130;01m\\033\u001b[39;00m\u001b[38;5;124m[1mEnding:\u001b[39m\u001b[38;5;130;01m\\033\u001b[39;00m\u001b[38;5;124m[0m \u001b[39m\u001b[38;5;132;01m{\u001b[39;00mnp\u001b[38;5;241m.\u001b[39mround(freq_end,\u001b[38;5;241m1\u001b[39m)\u001b[38;5;132;01m}\u001b[39;00m\u001b[38;5;124m Hz\u001b[39m\u001b[38;5;124m\"\u001b[39m)\n\u001b[1;32m     27\u001b[0m \u001b[38;5;66;03m# Play the sequence\u001b[39;00m\n\u001b[0;32m---> 28\u001b[0m \u001b[43msequence\u001b[49m\u001b[38;5;241;43m.\u001b[39;49m\u001b[43mplay\u001b[49m\u001b[43m(\u001b[49m\u001b[43m)\u001b[49m\n\u001b[1;32m     30\u001b[0m l \u001b[38;5;241m+\u001b[39m\u001b[38;5;241m=\u001b[39m \u001b[38;5;241m1\u001b[39m\n",
      "File \u001b[0;32m~/Documents/3_Thesis/Research/Project_3_CrossCultural_SMS/Protocol/Code/.venv/lib/python3.13/site-packages/thebeat/core/soundsequence.py:265\u001b[0m, in \u001b[0;36mSoundSequence.play\u001b[0;34m(self, loop, metronome, metronome_amplitude)\u001b[0m\n\u001b[1;32m    240\u001b[0m \u001b[38;5;28;01mdef\u001b[39;00m\u001b[38;5;250m \u001b[39m\u001b[38;5;21mplay\u001b[39m(\u001b[38;5;28mself\u001b[39m, loop: \u001b[38;5;28mbool\u001b[39m \u001b[38;5;241m=\u001b[39m \u001b[38;5;28;01mFalse\u001b[39;00m, metronome: \u001b[38;5;28mbool\u001b[39m \u001b[38;5;241m=\u001b[39m \u001b[38;5;28;01mFalse\u001b[39;00m, metronome_amplitude: \u001b[38;5;28mfloat\u001b[39m \u001b[38;5;241m=\u001b[39m \u001b[38;5;241m1.0\u001b[39m):\n\u001b[1;32m    241\u001b[0m \u001b[38;5;250m    \u001b[39m\u001b[38;5;124;03m\"\"\"\u001b[39;00m\n\u001b[1;32m    242\u001b[0m \u001b[38;5;124;03m    This method uses the :func:`sounddevice.play` to play the object's audio.\u001b[39;00m\n\u001b[1;32m    243\u001b[0m \n\u001b[0;32m   (...)\u001b[0m\n\u001b[1;32m    263\u001b[0m \n\u001b[1;32m    264\u001b[0m \u001b[38;5;124;03m    \"\"\"\u001b[39;00m\n\u001b[0;32m--> 265\u001b[0m     \u001b[43mthebeat\u001b[49m\u001b[38;5;241;43m.\u001b[39;49m\u001b[43mhelpers\u001b[49m\u001b[38;5;241;43m.\u001b[39;49m\u001b[43mplay_samples\u001b[49m\u001b[43m(\u001b[49m\n\u001b[1;32m    266\u001b[0m \u001b[43m        \u001b[49m\u001b[43msamples\u001b[49m\u001b[38;5;241;43m=\u001b[39;49m\u001b[38;5;28;43mself\u001b[39;49m\u001b[38;5;241;43m.\u001b[39;49m\u001b[43msamples\u001b[49m\u001b[43m,\u001b[49m\n\u001b[1;32m    267\u001b[0m \u001b[43m        \u001b[49m\u001b[43mfs\u001b[49m\u001b[38;5;241;43m=\u001b[39;49m\u001b[38;5;28;43mself\u001b[39;49m\u001b[38;5;241;43m.\u001b[39;49m\u001b[43mfs\u001b[49m\u001b[43m,\u001b[49m\n\u001b[1;32m    268\u001b[0m \u001b[43m        \u001b[49m\u001b[43mmean_ioi\u001b[49m\u001b[38;5;241;43m=\u001b[39;49m\u001b[38;5;28;43mself\u001b[39;49m\u001b[38;5;241;43m.\u001b[39;49m\u001b[43mmean_ioi\u001b[49m\u001b[43m,\u001b[49m\n\u001b[1;32m    269\u001b[0m \u001b[43m        \u001b[49m\u001b[43mloop\u001b[49m\u001b[38;5;241;43m=\u001b[39;49m\u001b[43mloop\u001b[49m\u001b[43m,\u001b[49m\n\u001b[1;32m    270\u001b[0m \u001b[43m        \u001b[49m\u001b[43mmetronome\u001b[49m\u001b[38;5;241;43m=\u001b[39;49m\u001b[43mmetronome\u001b[49m\u001b[43m,\u001b[49m\n\u001b[1;32m    271\u001b[0m \u001b[43m        \u001b[49m\u001b[43mmetronome_amplitude\u001b[49m\u001b[38;5;241;43m=\u001b[39;49m\u001b[43mmetronome_amplitude\u001b[49m\u001b[43m,\u001b[49m\n\u001b[1;32m    272\u001b[0m \u001b[43m    \u001b[49m\u001b[43m)\u001b[49m\n",
      "File \u001b[0;32m~/Documents/3_Thesis/Research/Project_3_CrossCultural_SMS/Protocol/Code/.venv/lib/python3.13/site-packages/thebeat/helpers.py:575\u001b[0m, in \u001b[0;36mplay_samples\u001b[0;34m(samples, fs, mean_ioi, loop, metronome, metronome_amplitude)\u001b[0m\n\u001b[1;32m    572\u001b[0m     samples \u001b[38;5;241m=\u001b[39m samples\n\u001b[1;32m    574\u001b[0m sd\u001b[38;5;241m.\u001b[39mplay(samples, fs, loop\u001b[38;5;241m=\u001b[39mloop)\n\u001b[0;32m--> 575\u001b[0m \u001b[43msd\u001b[49m\u001b[38;5;241;43m.\u001b[39;49m\u001b[43mwait\u001b[49m\u001b[43m(\u001b[49m\u001b[43m)\u001b[49m\n",
      "File \u001b[0;32m~/Documents/3_Thesis/Research/Project_3_CrossCultural_SMS/Protocol/Code/.venv/lib/python3.13/site-packages/sounddevice.py:398\u001b[0m, in \u001b[0;36mwait\u001b[0;34m(ignore_errors)\u001b[0m\n\u001b[1;32m    382\u001b[0m \u001b[38;5;250m\u001b[39m\u001b[38;5;124;03m\"\"\"Wait for `play()`/`rec()`/`playrec()` to be finished.\u001b[39;00m\n\u001b[1;32m    383\u001b[0m \n\u001b[1;32m    384\u001b[0m \u001b[38;5;124;03mPlayback/recording can be stopped with a `KeyboardInterrupt`.\u001b[39;00m\n\u001b[0;32m   (...)\u001b[0m\n\u001b[1;32m    395\u001b[0m \n\u001b[1;32m    396\u001b[0m \u001b[38;5;124;03m\"\"\"\u001b[39;00m\n\u001b[1;32m    397\u001b[0m \u001b[38;5;28;01mif\u001b[39;00m _last_callback:\n\u001b[0;32m--> 398\u001b[0m     \u001b[38;5;28;01mreturn\u001b[39;00m \u001b[43m_last_callback\u001b[49m\u001b[38;5;241;43m.\u001b[39;49m\u001b[43mwait\u001b[49m\u001b[43m(\u001b[49m\u001b[43mignore_errors\u001b[49m\u001b[43m)\u001b[49m\n",
      "File \u001b[0;32m~/Documents/3_Thesis/Research/Project_3_CrossCultural_SMS/Protocol/Code/.venv/lib/python3.13/site-packages/sounddevice.py:2645\u001b[0m, in \u001b[0;36m_CallbackContext.wait\u001b[0;34m(self, ignore_errors)\u001b[0m\n\u001b[1;32m   2639\u001b[0m \u001b[38;5;250m\u001b[39m\u001b[38;5;124;03m\"\"\"Wait for finished_callback.\u001b[39;00m\n\u001b[1;32m   2640\u001b[0m \n\u001b[1;32m   2641\u001b[0m \u001b[38;5;124;03mCan be interrupted with a KeyboardInterrupt.\u001b[39;00m\n\u001b[1;32m   2642\u001b[0m \n\u001b[1;32m   2643\u001b[0m \u001b[38;5;124;03m\"\"\"\u001b[39;00m\n\u001b[1;32m   2644\u001b[0m \u001b[38;5;28;01mtry\u001b[39;00m:\n\u001b[0;32m-> 2645\u001b[0m     \u001b[38;5;28;43mself\u001b[39;49m\u001b[38;5;241;43m.\u001b[39;49m\u001b[43mevent\u001b[49m\u001b[38;5;241;43m.\u001b[39;49m\u001b[43mwait\u001b[49m\u001b[43m(\u001b[49m\u001b[43m)\u001b[49m\n\u001b[1;32m   2646\u001b[0m \u001b[38;5;28;01mfinally\u001b[39;00m:\n\u001b[1;32m   2647\u001b[0m     \u001b[38;5;28mself\u001b[39m\u001b[38;5;241m.\u001b[39mstream\u001b[38;5;241m.\u001b[39mclose(ignore_errors)\n",
      "File \u001b[0;32m/Library/Frameworks/Python.framework/Versions/3.13/lib/python3.13/threading.py:659\u001b[0m, in \u001b[0;36mEvent.wait\u001b[0;34m(self, timeout)\u001b[0m\n\u001b[1;32m    657\u001b[0m signaled \u001b[38;5;241m=\u001b[39m \u001b[38;5;28mself\u001b[39m\u001b[38;5;241m.\u001b[39m_flag\n\u001b[1;32m    658\u001b[0m \u001b[38;5;28;01mif\u001b[39;00m \u001b[38;5;129;01mnot\u001b[39;00m signaled:\n\u001b[0;32m--> 659\u001b[0m     signaled \u001b[38;5;241m=\u001b[39m \u001b[38;5;28;43mself\u001b[39;49m\u001b[38;5;241;43m.\u001b[39;49m\u001b[43m_cond\u001b[49m\u001b[38;5;241;43m.\u001b[39;49m\u001b[43mwait\u001b[49m\u001b[43m(\u001b[49m\u001b[43mtimeout\u001b[49m\u001b[43m)\u001b[49m\n\u001b[1;32m    660\u001b[0m \u001b[38;5;28;01mreturn\u001b[39;00m signaled\n",
      "File \u001b[0;32m/Library/Frameworks/Python.framework/Versions/3.13/lib/python3.13/threading.py:359\u001b[0m, in \u001b[0;36mCondition.wait\u001b[0;34m(self, timeout)\u001b[0m\n\u001b[1;32m    357\u001b[0m \u001b[38;5;28;01mtry\u001b[39;00m:    \u001b[38;5;66;03m# restore state no matter what (e.g., KeyboardInterrupt)\u001b[39;00m\n\u001b[1;32m    358\u001b[0m     \u001b[38;5;28;01mif\u001b[39;00m timeout \u001b[38;5;129;01mis\u001b[39;00m \u001b[38;5;28;01mNone\u001b[39;00m:\n\u001b[0;32m--> 359\u001b[0m         \u001b[43mwaiter\u001b[49m\u001b[38;5;241;43m.\u001b[39;49m\u001b[43macquire\u001b[49m\u001b[43m(\u001b[49m\u001b[43m)\u001b[49m\n\u001b[1;32m    360\u001b[0m         gotit \u001b[38;5;241m=\u001b[39m \u001b[38;5;28;01mTrue\u001b[39;00m\n\u001b[1;32m    361\u001b[0m     \u001b[38;5;28;01melse\u001b[39;00m:\n",
      "\u001b[0;31mKeyboardInterrupt\u001b[0m: "
     ]
    }
   ],
   "source": [
    "# TASK SYNCHRONIZATION DECREASING FREQUENCIES\n",
    "# ===========================================\n",
    "\n",
    "if l > 4:\n",
    "    print(\"No more trials left\")\n",
    "\n",
    "else:\n",
    "    # Parameters for the trial\n",
    "    freq_beg = 7\n",
    "    freq_end = 1\n",
    "    freq_step = -0.3\n",
    "    freqs = np.arange(freq_beg, freq_end-0.1, freq_step)\n",
    "    n_stimuli = 15\n",
    "\n",
    "    # Generate the stimuli and the sequence\n",
    "    ioi_list = generate_iois(freqs, n_stimuli, 'synchro', \n",
    "                            n_stimuli_first_plateau=20,\n",
    "                            silence_around_stim=2)\n",
    "    stimuli = generate_stimuli(ioi_list)\n",
    "    sequence = create_sequence(ioi_list, stimuli)\n",
    "\n",
    "    # Inform user about the trial\n",
    "    print(f\"\\033[1mSYNC DECREASING FREQ:\\033[0m Trial number {l + 1}\")\n",
    "    print(f\"    \\033[1mBeginning:\\033[0m {np.round(freq_beg,1)} Hz\")\n",
    "    print(f\"    \\033[1mEnding:\\033[0m {np.round(freq_end,1)} Hz\")\n",
    "\n",
    "    # Play the sequence\n",
    "    sequence.play()\n",
    "\n",
    "    l += 1"
   ]
  }
 ],
 "metadata": {
  "kernelspec": {
   "display_name": ".venv",
   "language": "python",
   "name": "python3"
  },
  "language_info": {
   "codemirror_mode": {
    "name": "ipython",
    "version": 3
   },
   "file_extension": ".py",
   "mimetype": "text/x-python",
   "name": "python",
   "nbconvert_exporter": "python",
   "pygments_lexer": "ipython3",
   "version": "3.13.0"
  }
 },
 "nbformat": 4,
 "nbformat_minor": 2
}
