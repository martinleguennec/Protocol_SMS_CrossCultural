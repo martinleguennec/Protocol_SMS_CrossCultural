{
 "cells": [
  {
   "cell_type": "code",
   "execution_count": 2,
   "metadata": {},
   "outputs": [],
   "source": [
    "from pathlib import Path\n",
    "import os\n",
    "\n",
    "base_dir = Path().resolve()\n",
    "if base_dir.name == 'notebooks':\n",
    "    os.chdir(base_dir.parent)\n",
    "    base_dir = Path().resolve()\n",
    "\n",
    "from src.condition_randomization import randomize_conditions\n",
    "from src.api_elab import change_text, text_randomization"
   ]
  },
  {
   "cell_type": "code",
   "execution_count": 3,
   "metadata": {},
   "outputs": [
    {
     "name": "stdout",
     "output_type": "stream",
     "text": [
      "['S' 'F' 'F' 'S' 'F' 'S']\n",
      "['F' 'S' 'S' 'F' 'F' 'S']\n"
     ]
    }
   ],
   "source": [
    "participant = \"01MALEFR\"\n",
    "participant_number = 1\n",
    "\n",
    "order_1, order_2 = randomize_conditions(participant_number)\n",
    "print(order_1)\n",
    "print(order_2)"
   ]
  },
  {
   "cell_type": "code",
   "execution_count": 6,
   "metadata": {},
   "outputs": [
    {
     "name": "stderr",
     "output_type": "stream",
     "text": [
      "/Users/martinleguennec/Documents/3_Thesis/Research/Project_3_CrossCultural_SMS/Protocol/Code/.venv/lib/python3.13/site-packages/urllib3/connectionpool.py:1097: InsecureRequestWarning: Unverified HTTPS request is being made to host 'elabftw-prep.umontpellier.fr'. Adding certificate verification is strongly advised. See: https://urllib3.readthedocs.io/en/latest/advanced-usage.html#tls-warnings\n",
      "  warnings.warn(\n",
      "/Users/martinleguennec/Documents/3_Thesis/Research/Project_3_CrossCultural_SMS/Protocol/Code/.venv/lib/python3.13/site-packages/urllib3/connectionpool.py:1097: InsecureRequestWarning: Unverified HTTPS request is being made to host 'elabftw-prep.umontpellier.fr'. Adding certificate verification is strongly advised. See: https://urllib3.readthedocs.io/en/latest/advanced-usage.html#tls-warnings\n",
      "  warnings.warn(\n"
     ]
    },
    {
     "name": "stdout",
     "output_type": "stream",
     "text": [
      "ELAB INFO: Text updated\n"
     ]
    }
   ],
   "source": [
    "change_text(participant, text_randomization(order_1, order_2))"
   ]
  }
 ],
 "metadata": {
  "kernelspec": {
   "display_name": ".venv",
   "language": "python",
   "name": "python3"
  },
  "language_info": {
   "codemirror_mode": {
    "name": "ipython",
    "version": 3
   },
   "file_extension": ".py",
   "mimetype": "text/x-python",
   "name": "python",
   "nbconvert_exporter": "python",
   "pygments_lexer": "ipython3",
   "version": "3.13.0"
  }
 },
 "nbformat": 4,
 "nbformat_minor": 2
}
